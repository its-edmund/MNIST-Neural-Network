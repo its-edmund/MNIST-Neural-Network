{
  "nbformat": 4,
  "nbformat_minor": 0,
  "metadata": {
    "colab": {
      "name": "DARA.ipynb",
      "provenance": [],
      "collapsed_sections": [],
      "include_colab_link": true
    },
    "kernelspec": {
      "name": "python3",
      "display_name": "Python 3"
    }
  },
  "cells": [
    {
      "cell_type": "markdown",
      "metadata": {
        "id": "view-in-github",
        "colab_type": "text"
      },
      "source": [
        "<a href=\"https://colab.research.google.com/github/mxinburritos/MNIST-Neural-Network/blob/master/DARA.ipynb\" target=\"_parent\"><img src=\"https://colab.research.google.com/assets/colab-badge.svg\" alt=\"Open In Colab\"/></a>"
      ]
    },
    {
      "cell_type": "markdown",
      "metadata": {
        "id": "zB8CQwiBRchq",
        "colab_type": "text"
      },
      "source": [
        "Imports needed for the model. This neural network uses Keras from TensorFlow. Other modules are used to properly process data."
      ]
    },
    {
      "cell_type": "code",
      "metadata": {
        "id": "p0PrEQeXwMyd",
        "colab_type": "code",
        "outputId": "59848c62-9997-48ae-e3f8-4fac56889222",
        "colab": {
          "base_uri": "https://localhost:8080/",
          "height": 34
        }
      },
      "source": [
        "from PIL import Image\n",
        "from mlxtend.data import loadlocal_mnist\n",
        "from tensorflow import keras\n",
        "from tensorflow.keras import layers\n",
        "from keras.utils import np_utils\n",
        "\n",
        "import tensorflow as tf\n",
        "import matplotlib.pyplot as plt\n",
        "import numpy as np\n",
        "import sys\n",
        "import os\n",
        "import csv"
      ],
      "execution_count": 0,
      "outputs": [
        {
          "output_type": "stream",
          "text": [
            "Using TensorFlow backend.\n"
          ],
          "name": "stderr"
        }
      ]
    },
    {
      "cell_type": "markdown",
      "metadata": {
        "id": "lr5kMblySU-l",
        "colab_type": "text"
      },
      "source": [
        "Loads training and testing data from MNIST files."
      ]
    },
    {
      "cell_type": "code",
      "metadata": {
        "id": "WDdW1Y6Kwo7u",
        "colab_type": "code",
        "outputId": "e5e7874f-1faf-4c5b-f693-3c5a74a10756",
        "colab": {
          "base_uri": "https://localhost:8080/",
          "height": 351
        }
      },
      "source": [
        "X, y = loadlocal_mnist(\n",
        "        images_path='train-images-idx3-ubyte', \n",
        "        labels_path='train-labels-idx1-ubyte')\n",
        "\n",
        "XTest, yTest = loadlocal_mnist(\n",
        "        images_path='t10k-images-idx3-ubyte', \n",
        "        labels_path='t10k-labels-idx1-ubyte')\n"
      ],
      "execution_count": 0,
      "outputs": [
        {
          "output_type": "error",
          "ename": "FileNotFoundError",
          "evalue": "ignored",
          "traceback": [
            "\u001b[0;31m---------------------------------------------------------------------------\u001b[0m",
            "\u001b[0;31mFileNotFoundError\u001b[0m                         Traceback (most recent call last)",
            "\u001b[0;32m<ipython-input-3-fec621a4c202>\u001b[0m in \u001b[0;36m<module>\u001b[0;34m()\u001b[0m\n\u001b[1;32m      1\u001b[0m X, y = loadlocal_mnist(\n\u001b[1;32m      2\u001b[0m         \u001b[0mimages_path\u001b[0m\u001b[0;34m=\u001b[0m\u001b[0;34m'train-images-idx3-ubyte'\u001b[0m\u001b[0;34m,\u001b[0m\u001b[0;34m\u001b[0m\u001b[0;34m\u001b[0m\u001b[0m\n\u001b[0;32m----> 3\u001b[0;31m         labels_path='train-labels-idx1-ubyte')\n\u001b[0m\u001b[1;32m      4\u001b[0m \u001b[0;34m\u001b[0m\u001b[0m\n\u001b[1;32m      5\u001b[0m XTest, yTest = loadlocal_mnist(\n",
            "\u001b[0;32m/usr/local/lib/python3.6/dist-packages/mlxtend/data/local_mnist.py\u001b[0m in \u001b[0;36mloadlocal_mnist\u001b[0;34m(images_path, labels_path)\u001b[0m\n\u001b[1;32m     34\u001b[0m \u001b[0;34m\u001b[0m\u001b[0m\n\u001b[1;32m     35\u001b[0m     \"\"\"\n\u001b[0;32m---> 36\u001b[0;31m     \u001b[0;32mwith\u001b[0m \u001b[0mopen\u001b[0m\u001b[0;34m(\u001b[0m\u001b[0mlabels_path\u001b[0m\u001b[0;34m,\u001b[0m \u001b[0;34m'rb'\u001b[0m\u001b[0;34m)\u001b[0m \u001b[0;32mas\u001b[0m \u001b[0mlbpath\u001b[0m\u001b[0;34m:\u001b[0m\u001b[0;34m\u001b[0m\u001b[0;34m\u001b[0m\u001b[0m\n\u001b[0m\u001b[1;32m     37\u001b[0m         magic, n = struct.unpack('>II',\n\u001b[1;32m     38\u001b[0m                                  lbpath.read(8))\n",
            "\u001b[0;31mFileNotFoundError\u001b[0m: [Errno 2] No such file or directory: 'train-labels-idx1-ubyte'"
          ]
        }
      ]
    },
    {
      "cell_type": "markdown",
      "metadata": {
        "id": "133LGWwdSd7P",
        "colab_type": "text"
      },
      "source": [
        "Opens and processes images and converts to grayscale csv."
      ]
    },
    {
      "cell_type": "code",
      "metadata": {
        "id": "ciNOwjKl9Gd1",
        "colab_type": "code",
        "colab": {}
      },
      "source": [
        "img_file = Image.open(\"test.png\")\n",
        "# img_file.show()\n",
        "\n",
        "# get original image parameters...\n",
        "width, height = img_file.size\n",
        "format = img_file.format\n",
        "mode = img_file.mode\n",
        "\n",
        "# Make image Greyscale\n",
        "img_grey = img_file.convert('L')\n",
        "#img_grey.save('result.png')\n",
        "#img_grey.show()\n",
        "\n",
        "# Save Greyscale values\n",
        "value = np.asarray(img_grey.getdata(), dtype=np.int).reshape((img_grey.size[1], img_grey.size[0]))\n",
        "value = value.flatten()\n",
        "value = value.reshape(1,784)\n",
        "with open(\"img_pixels.csv\", 'a') as f:\n",
        "    writer = csv.writer(f)\n",
        "    writer.writerow(value)\n",
        "    "
      ],
      "execution_count": 0,
      "outputs": []
    },
    {
      "cell_type": "markdown",
      "metadata": {
        "id": "Ppn3pYDdSyBB",
        "colab_type": "text"
      },
      "source": [
        "Configures and compiles the Keras neural network for processing csv files."
      ]
    },
    {
      "cell_type": "code",
      "metadata": {
        "id": "7fl-cDHdtX4E",
        "colab_type": "code",
        "colab": {}
      },
      "source": [
        "model = tf.keras.Sequential()\n",
        "model.add(layers.Dense(784, input_dim = 784, activation='relu'))\n",
        "model.add(layers.Dense(10, activation='softmax'))\n",
        "model.compile(loss='sparse_categorical_crossentropy', optimizer=\"adam\", metrics=['accuracy']) "
      ],
      "execution_count": 0,
      "outputs": []
    },
    {
      "cell_type": "markdown",
      "metadata": {
        "id": "6eZQRm9fTJEO",
        "colab_type": "text"
      },
      "source": [
        "Trains the neural network with the training data and labels.s"
      ]
    },
    {
      "cell_type": "code",
      "metadata": {
        "id": "w1svC3YKthUq",
        "colab_type": "code",
        "colab": {}
      },
      "source": [
        "#image_vector_size = 28*28\n",
        "#X = X.reshape(X.shape[0], image_vector_size)\n",
        "#y = y.reshape(y.shape[0], image_vector_size)\n",
        "model.fit(X, y, epochs=100, batch_size=32)"
      ],
      "execution_count": 0,
      "outputs": []
    },
    {
      "cell_type": "markdown",
      "metadata": {
        "id": "fRanyNAXTPd1",
        "colab_type": "text"
      },
      "source": [
        "Evaluates the accuracy of model with test data which is usually above 95%."
      ]
    },
    {
      "cell_type": "code",
      "metadata": {
        "id": "YhCeztniZq8X",
        "colab_type": "code",
        "colab": {}
      },
      "source": [
        "model.evaluate(XTest, yTest, batch_size=32)"
      ],
      "execution_count": 0,
      "outputs": []
    },
    {
      "cell_type": "markdown",
      "metadata": {
        "id": "9fShRxl7TWWc",
        "colab_type": "text"
      },
      "source": [
        "Displays the image of picture which is being processed."
      ]
    },
    {
      "cell_type": "code",
      "metadata": {
        "id": "Dl7sCp4dm4hK",
        "colab_type": "code",
        "colab": {}
      },
      "source": [
        "test = value.reshape(28,28)\n",
        "plt.gray()\n",
        "plt.imshow(test)\n"
      ],
      "execution_count": 0,
      "outputs": []
    },
    {
      "cell_type": "markdown",
      "metadata": {
        "id": "nvCDUopKTvlm",
        "colab_type": "text"
      },
      "source": [
        "Predicts the csv file of the image inputted."
      ]
    },
    {
      "cell_type": "code",
      "metadata": {
        "id": "aJNDbO4GavU6",
        "colab_type": "code",
        "colab": {}
      },
      "source": [
        "result = model.predict(value, batch_size=1)\n",
        "print(np.argmax(result))"
      ],
      "execution_count": 0,
      "outputs": []
    }
  ]
}